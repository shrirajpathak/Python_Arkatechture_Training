{
 "cells": [
  {
   "cell_type": "code",
   "execution_count": 27,
   "id": "3f792d6f",
   "metadata": {},
   "outputs": [],
   "source": [
    "path_file = r\"C:\\Users\\ankit\\Desktop\\test_file_info.xml\""
   ]
  },
  {
   "cell_type": "code",
   "execution_count": 28,
   "id": "c5de9222",
   "metadata": {},
   "outputs": [],
   "source": [
    "import xml.etree.ElementTree as ETree\n",
    "import pandas as pd"
   ]
  },
  {
   "cell_type": "code",
   "execution_count": 115,
   "id": "c7ea303a",
   "metadata": {
    "scrolled": false
   },
   "outputs": [
    {
     "name": "stdout",
     "output_type": "stream",
     "text": [
      "             Stream         Name Age  Gender Roll_No\n",
      "0  Computer Science     John Doe  20    Male   CS001\n",
      "1  Computer Science     John Doe  20    Male   CS002\n",
      "2  Computer Science    Jason Doe  22    Male   CS003\n",
      "3  Computer Science    Jenny Doe  19  Female   CS004\n",
      "4  Computer Science      Jan Doe  21  Female   CS005\n",
      "5  Computer Science  John Smells  23    Male   CS006\n",
      "6  Computer Science     Jack Doe  23    Male   CS007\n",
      "7  Computer Science  Jenifer Doe  22  Female   CS008\n",
      "8  Computer Science   Justin Doe  22    Male   CS009\n",
      "9  Computer Science    Jolly Doe  20  Female  CS0010\n"
     ]
    }
   ],
   "source": [
    "l = []\n",
    "prstree = ETree.parse(path_file)\n",
    "root = prstree.getroot()\n",
    "root.findall('stream')\n",
    "for a in root.iter('stream'):\n",
    "    course = a.find('course').text\n",
    "    for students in a.iter('student'):\n",
    "        s_name = students.find('name').text\n",
    "        age = students.find('age').text\n",
    "        gender = students.find('gender').text\n",
    "        roll_no = students.find('roll_number').text\n",
    "        store_items = [course,s_name, age, gender, roll_no]\n",
    "        l.append(store_items)\n",
    "columns = [\"Stream\", \"Name\", \"Age\", \"Gender\", \"Roll_No\"]\n",
    "xmlToDf = pd.DataFrame(l, columns=columns)\n",
    "print(xmlToDf.head(10))      "
   ]
  },
  {
   "cell_type": "code",
   "execution_count": 116,
   "id": "d1d04e74",
   "metadata": {},
   "outputs": [],
   "source": [
    "jd = xmlToDf[xmlToDf['Name'] == \"John Doe\"]"
   ]
  },
  {
   "cell_type": "code",
   "execution_count": 117,
   "id": "cb68099f",
   "metadata": {},
   "outputs": [
    {
     "data": {
      "text/html": [
       "<div>\n",
       "<style scoped>\n",
       "    .dataframe tbody tr th:only-of-type {\n",
       "        vertical-align: middle;\n",
       "    }\n",
       "\n",
       "    .dataframe tbody tr th {\n",
       "        vertical-align: top;\n",
       "    }\n",
       "\n",
       "    .dataframe thead th {\n",
       "        text-align: right;\n",
       "    }\n",
       "</style>\n",
       "<table border=\"1\" class=\"dataframe\">\n",
       "  <thead>\n",
       "    <tr style=\"text-align: right;\">\n",
       "      <th></th>\n",
       "      <th>Stream</th>\n",
       "      <th>Name</th>\n",
       "      <th>Age</th>\n",
       "      <th>Gender</th>\n",
       "      <th>Roll_No</th>\n",
       "    </tr>\n",
       "  </thead>\n",
       "  <tbody>\n",
       "    <tr>\n",
       "      <th>0</th>\n",
       "      <td>Computer Science</td>\n",
       "      <td>John Doe</td>\n",
       "      <td>20</td>\n",
       "      <td>Male</td>\n",
       "      <td>CS001</td>\n",
       "    </tr>\n",
       "    <tr>\n",
       "      <th>1</th>\n",
       "      <td>Computer Science</td>\n",
       "      <td>John Doe</td>\n",
       "      <td>20</td>\n",
       "      <td>Male</td>\n",
       "      <td>CS002</td>\n",
       "    </tr>\n",
       "    <tr>\n",
       "      <th>49</th>\n",
       "      <td>Biology</td>\n",
       "      <td>John Doe</td>\n",
       "      <td>20</td>\n",
       "      <td>Male</td>\n",
       "      <td>B002</td>\n",
       "    </tr>\n",
       "    <tr>\n",
       "      <th>60</th>\n",
       "      <td>Social Science</td>\n",
       "      <td>John Doe</td>\n",
       "      <td>20</td>\n",
       "      <td>Male</td>\n",
       "      <td>SS001</td>\n",
       "    </tr>\n",
       "    <tr>\n",
       "      <th>61</th>\n",
       "      <td>Social Science</td>\n",
       "      <td>John Doe</td>\n",
       "      <td>20</td>\n",
       "      <td>Male</td>\n",
       "      <td>SS002</td>\n",
       "    </tr>\n",
       "    <tr>\n",
       "      <th>72</th>\n",
       "      <td>Mathematics</td>\n",
       "      <td>John Doe</td>\n",
       "      <td>20</td>\n",
       "      <td>Male</td>\n",
       "      <td>M001</td>\n",
       "    </tr>\n",
       "    <tr>\n",
       "      <th>73</th>\n",
       "      <td>Mathematics</td>\n",
       "      <td>John Doe</td>\n",
       "      <td>20</td>\n",
       "      <td>Male</td>\n",
       "      <td>M002</td>\n",
       "    </tr>\n",
       "  </tbody>\n",
       "</table>\n",
       "</div>"
      ],
      "text/plain": [
       "              Stream      Name Age Gender Roll_No\n",
       "0   Computer Science  John Doe  20   Male   CS001\n",
       "1   Computer Science  John Doe  20   Male   CS002\n",
       "49           Biology  John Doe  20   Male    B002\n",
       "60    Social Science  John Doe  20   Male   SS001\n",
       "61    Social Science  John Doe  20   Male   SS002\n",
       "72       Mathematics  John Doe  20   Male    M001\n",
       "73       Mathematics  John Doe  20   Male    M002"
      ]
     },
     "execution_count": 117,
     "metadata": {},
     "output_type": "execute_result"
    }
   ],
   "source": [
    "jd"
   ]
  },
  {
   "cell_type": "code",
   "execution_count": 111,
   "id": "dd397537",
   "metadata": {},
   "outputs": [],
   "source": [
    "import xml.etree.ElementTree as ET\n",
    "\n",
    "def split_xml(root_path, input_file, tag):\n",
    "    tree = ET.parse(input_file)\n",
    "    root = tree.getroot()\n",
    "    uni_name = str(root.find('uname').text).replace(\" \", \"_\")\n",
    "    if os.path.exists(os.path.join(root_path, uni_name)):\n",
    "        pass\n",
    "    else:\n",
    "        os.makedirs(os.path.join(root_path, uni_name))\n",
    "    # Find all the <stream> elements in the XML\n",
    "    stream_elements = root.findall(f\".//{tag}\")\n",
    "\n",
    "    # Split the XML file into smaller files based on the <stream> elements\n",
    "    for index, stream_element in enumerate(stream_elements):\n",
    "        # Create a new XML tree with the <stream> element as the root\n",
    "        new_root = ET.Element(\"root\")\n",
    "        new_root.append(stream_element)\n",
    "\n",
    "        # Create a new XML tree from the new root\n",
    "        new_tree = ET.ElementTree(new_root)\n",
    "        b = new_tree.getroot()\n",
    "        for i in b.iter('stream'):\n",
    "            c_name = i.find('course').text\n",
    "            c_name = c_name.replace(' ', '_')\n",
    "            if os.path.exists(os.path.join(root_path, uni_name, c_name)):\n",
    "                pass\n",
    "            else:\n",
    "                os.makedirs(os.path.join(root_path, uni_name, c_name))\n",
    "        # Save the new XML tree to a separate file\n",
    "            output_file = os.path.join(root_path, uni_name, c_name, f\"{c_name}.xml\")\n",
    "#             print(output_file) \"{}.xml\".format(c_name)\n",
    "            new_tree.write(output_file)\n",
    "\n",
    "            print(\"Split XML file created: {}\".format(output_file))\n",
    "\n",
    "# Usage example\n"
   ]
  },
  {
   "cell_type": "code",
   "execution_count": null,
   "id": "80f4da23",
   "metadata": {},
   "outputs": [],
   "source": []
  },
  {
   "cell_type": "code",
   "execution_count": 112,
   "id": "1aa29003",
   "metadata": {},
   "outputs": [
    {
     "name": "stdout",
     "output_type": "stream",
     "text": [
      "Split XML file created: C:\\Users\\ankit\\Desktop\\Mumbai_University\\Computer_Science\\Computer_Science.xml\n",
      "Split XML file created: C:\\Users\\ankit\\Desktop\\Mumbai_University\\Electrical_Engineering\\Electrical_Engineering.xml\n",
      "Split XML file created: C:\\Users\\ankit\\Desktop\\Mumbai_University\\Physics\\Physics.xml\n",
      "Split XML file created: C:\\Users\\ankit\\Desktop\\Mumbai_University\\Chemistry\\Chemistry.xml\n",
      "Split XML file created: C:\\Users\\ankit\\Desktop\\Mumbai_University\\Biology\\Biology.xml\n",
      "Split XML file created: C:\\Users\\ankit\\Desktop\\Mumbai_University\\Social_Science\\Social_Science.xml\n",
      "Split XML file created: C:\\Users\\ankit\\Desktop\\Mumbai_University\\Mathematics\\Mathematics.xml\n"
     ]
    }
   ],
   "source": [
    "input_file = path_file\n",
    "tag = \"stream\"\n",
    "root_path = r\"C:\\Users\\ankit\\Desktop\"\n",
    "split_xml(root_path, input_file, output_prefix, tag)"
   ]
  },
  {
   "cell_type": "code",
   "execution_count": null,
   "id": "2e4e358b",
   "metadata": {},
   "outputs": [],
   "source": []
  },
  {
   "cell_type": "code",
   "execution_count": null,
   "id": "d457c9e9",
   "metadata": {},
   "outputs": [],
   "source": []
  },
  {
   "cell_type": "code",
   "execution_count": null,
   "id": "2012c807",
   "metadata": {},
   "outputs": [],
   "source": []
  }
 ],
 "metadata": {
  "kernelspec": {
   "display_name": "Python 3 (ipykernel)",
   "language": "python",
   "name": "python3"
  },
  "language_info": {
   "codemirror_mode": {
    "name": "ipython",
    "version": 3
   },
   "file_extension": ".py",
   "mimetype": "text/x-python",
   "name": "python",
   "nbconvert_exporter": "python",
   "pygments_lexer": "ipython3",
   "version": "3.10.1"
  }
 },
 "nbformat": 4,
 "nbformat_minor": 5
}
